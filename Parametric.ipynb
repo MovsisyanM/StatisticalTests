{
 "cells": [
  {
   "cell_type": "markdown",
   "metadata": {},
   "source": [
    "### Student's t-test  \n",
    "\n",
    "Assumptions:\n",
    "- Normally distributed\n",
    "- Homogeneous variance\n",
    "\n",
    "Null hypothesis: The means of two samples are equal  "
   ]
  },
  {
   "cell_type": "markdown",
   "metadata": {},
   "source": [
    "Unpaired"
   ]
  },
  {
   "cell_type": "code",
   "execution_count": 2,
   "metadata": {},
   "outputs": [
    {
     "name": "stdout",
     "output_type": "stream",
     "text": [
      "T-Statistic: -1.02\n",
      "p-value: 0.314\n"
     ]
    }
   ],
   "source": [
    "from scipy.stats import ttest_ind\n",
    "import numpy as np\n",
    "\n",
    "df1 = np.random.normal(20, 1, 23)\n",
    "df2 = np.random.normal(20.8, 1, 23)\n",
    "\n",
    "stat, p = ttest_ind(df1, df2)\n",
    "\n",
    "print(f\"T-Statistic: {stat:.2f}\\np-value: {p:.3f}\")"
   ]
  },
  {
   "cell_type": "markdown",
   "metadata": {},
   "source": [
    "Paired"
   ]
  },
  {
   "cell_type": "code",
   "execution_count": 3,
   "metadata": {},
   "outputs": [
    {
     "name": "stdout",
     "output_type": "stream",
     "text": [
      "T-Statistic: -4.94\n",
      "p-value: 0.000\n"
     ]
    }
   ],
   "source": [
    "from scipy.stats import ttest_rel\n",
    "\n",
    "df1 = np.random.normal(20, 1, 23)\n",
    "df2 = df1 + np.random.normal(0.6, 0.7, 23)\n",
    "\n",
    "stat, p = ttest_rel(df1, df2)\n",
    "\n",
    "print(f\"T-Statistic: {stat:.2f}\\np-value: {p:.3f}\")"
   ]
  },
  {
   "cell_type": "markdown",
   "metadata": {},
   "source": [
    "One-sample"
   ]
  },
  {
   "cell_type": "code",
   "execution_count": 12,
   "metadata": {},
   "outputs": [
    {
     "name": "stdout",
     "output_type": "stream",
     "text": [
      "T-Statistic: -2.02\n",
      "p-value: 0.083\n"
     ]
    }
   ],
   "source": [
    "from scipy.stats import ttest_1samp\n",
    "import warnings\n",
    "warnings.filterwarnings(\"ignore\")\n",
    "\n",
    "stat, p = ttest_1samp(np.random.normal(3.1, 1, 8), 3)\n",
    "\n",
    "print(f\"T-Statistic: {stat:.2f}\\np-value: {p:.3f}\")"
   ]
  },
  {
   "cell_type": "markdown",
   "metadata": {},
   "source": [
    "### Analysis of Variance Test (ANOVA)  \n",
    "\n",
    "Assumptions:\n",
    "- Normally distributed\n",
    "- Homogeneous variance\n",
    "\n",
    "Null hypothesis: The means of samples are equal  "
   ]
  },
  {
   "cell_type": "markdown",
   "metadata": {},
   "source": [
    "Unpaired"
   ]
  },
  {
   "cell_type": "code",
   "execution_count": 5,
   "metadata": {},
   "outputs": [
    {
     "name": "stdout",
     "output_type": "stream",
     "text": [
      "Statistic: 0.93\n",
      "p-value: 0.431\n"
     ]
    }
   ],
   "source": [
    "from scipy.stats import f_oneway\n",
    "\n",
    "df1 = np.random.normal(20, 1, 23)\n",
    "df2 = np.random.normal(20.2, 1, 23)\n",
    "df3 = np.random.normal(19.8, 1, 23)\n",
    "df4 = np.random.normal(20.3, 1, 23)\n",
    "\n",
    "stat, p = f_oneway(df1, df2, df3, df4)\n",
    "\n",
    "print(f\"Statistic: {stat:.2f}\\np-value: {p:.3f}\")"
   ]
  },
  {
   "cell_type": "markdown",
   "metadata": {},
   "source": [
    "Paired"
   ]
  },
  {
   "cell_type": "code",
   "execution_count": 6,
   "metadata": {},
   "outputs": [
    {
     "data": {
      "text/html": [
       "<div>\n",
       "<style scoped>\n",
       "    .dataframe tbody tr th:only-of-type {\n",
       "        vertical-align: middle;\n",
       "    }\n",
       "\n",
       "    .dataframe tbody tr th {\n",
       "        vertical-align: top;\n",
       "    }\n",
       "\n",
       "    .dataframe thead th {\n",
       "        text-align: right;\n",
       "    }\n",
       "</style>\n",
       "<table border=\"1\" class=\"dataframe\">\n",
       "  <thead>\n",
       "    <tr style=\"text-align: right;\">\n",
       "      <th></th>\n",
       "      <th>drug</th>\n",
       "      <th>patient</th>\n",
       "      <th>effect</th>\n",
       "    </tr>\n",
       "  </thead>\n",
       "  <tbody>\n",
       "    <tr>\n",
       "      <th>0</th>\n",
       "      <td>0</td>\n",
       "      <td>0</td>\n",
       "      <td>20.274116</td>\n",
       "    </tr>\n",
       "    <tr>\n",
       "      <th>1</th>\n",
       "      <td>0</td>\n",
       "      <td>1</td>\n",
       "      <td>19.198682</td>\n",
       "    </tr>\n",
       "    <tr>\n",
       "      <th>2</th>\n",
       "      <td>0</td>\n",
       "      <td>2</td>\n",
       "      <td>20.689133</td>\n",
       "    </tr>\n",
       "    <tr>\n",
       "      <th>3</th>\n",
       "      <td>0</td>\n",
       "      <td>3</td>\n",
       "      <td>20.957441</td>\n",
       "    </tr>\n",
       "    <tr>\n",
       "      <th>4</th>\n",
       "      <td>0</td>\n",
       "      <td>4</td>\n",
       "      <td>21.999473</td>\n",
       "    </tr>\n",
       "    <tr>\n",
       "      <th>...</th>\n",
       "      <td>...</td>\n",
       "      <td>...</td>\n",
       "      <td>...</td>\n",
       "    </tr>\n",
       "    <tr>\n",
       "      <th>64</th>\n",
       "      <td>2</td>\n",
       "      <td>18</td>\n",
       "      <td>21.145065</td>\n",
       "    </tr>\n",
       "    <tr>\n",
       "      <th>65</th>\n",
       "      <td>2</td>\n",
       "      <td>19</td>\n",
       "      <td>19.682705</td>\n",
       "    </tr>\n",
       "    <tr>\n",
       "      <th>66</th>\n",
       "      <td>2</td>\n",
       "      <td>20</td>\n",
       "      <td>20.920504</td>\n",
       "    </tr>\n",
       "    <tr>\n",
       "      <th>67</th>\n",
       "      <td>2</td>\n",
       "      <td>21</td>\n",
       "      <td>21.420899</td>\n",
       "    </tr>\n",
       "    <tr>\n",
       "      <th>68</th>\n",
       "      <td>2</td>\n",
       "      <td>22</td>\n",
       "      <td>20.923536</td>\n",
       "    </tr>\n",
       "  </tbody>\n",
       "</table>\n",
       "<p>69 rows × 3 columns</p>\n",
       "</div>"
      ],
      "text/plain": [
       "    drug  patient     effect\n",
       "0      0        0  20.274116\n",
       "1      0        1  19.198682\n",
       "2      0        2  20.689133\n",
       "3      0        3  20.957441\n",
       "4      0        4  21.999473\n",
       "..   ...      ...        ...\n",
       "64     2       18  21.145065\n",
       "65     2       19  19.682705\n",
       "66     2       20  20.920504\n",
       "67     2       21  21.420899\n",
       "68     2       22  20.923536\n",
       "\n",
       "[69 rows x 3 columns]"
      ]
     },
     "execution_count": 6,
     "metadata": {},
     "output_type": "execute_result"
    }
   ],
   "source": [
    "from statsmodels.stats.anova import AnovaRM\n",
    "import pandas as pd\n",
    "\n",
    "df1 = np.random.normal(20, 1, 23)\n",
    "df2 = df1 + np.random.normal(0.6, 0.7, 23)\n",
    "df3 = df1 + np.random.normal(0.1, 0.3, 23)\n",
    "\n",
    "together = np.concatenate([df1, df2, df3])\n",
    "d_from = [[i]*23 for i in range(3)]\n",
    "d_from = d_from[0] + d_from[1] + d_from[2]\n",
    "patient = list(range(23)) * 3\n",
    "\n",
    "(df := pd.DataFrame({\"drug\":d_from, \"patient\":patient, \"effect\":together}))"
   ]
  },
  {
   "cell_type": "code",
   "execution_count": 7,
   "metadata": {},
   "outputs": [
    {
     "name": "stdout",
     "output_type": "stream",
     "text": [
      "              Anova\n",
      "==================================\n",
      "     F Value Num DF  Den DF Pr > F\n",
      "----------------------------------\n",
      "drug  7.0080 2.0000 44.0000 0.0023\n",
      "==================================\n",
      "\n"
     ]
    }
   ],
   "source": [
    "print(AnovaRM(df, \"effect\", \"patient\", within=[\"drug\"]).fit())"
   ]
  }
 ],
 "metadata": {
  "interpreter": {
   "hash": "b89b5cfaba6639976dc87ff2fec6d58faec662063367e2c229c520fe71072417"
  },
  "kernelspec": {
   "display_name": "Python 3.10.1 64-bit",
   "language": "python",
   "name": "python3"
  },
  "language_info": {
   "codemirror_mode": {
    "name": "ipython",
    "version": 3
   },
   "file_extension": ".py",
   "mimetype": "text/x-python",
   "name": "python",
   "nbconvert_exporter": "python",
   "pygments_lexer": "ipython3",
   "version": "3.10.1"
  },
  "orig_nbformat": 4
 },
 "nbformat": 4,
 "nbformat_minor": 2
}
