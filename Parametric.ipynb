{
 "cells": [
  {
   "cell_type": "markdown",
   "metadata": {},
   "source": [
    "### Student's t-test  \n",
    "\n",
    "Assumptions:\n",
    "- Normally distributed\n",
    "- Homogeneous variance\n",
    "\n",
    "Null hypothesis: The means of two samples are equal  "
   ]
  },
  {
   "cell_type": "markdown",
   "metadata": {},
   "source": [
    "Unpaired"
   ]
  },
  {
   "cell_type": "code",
   "execution_count": 1,
   "metadata": {},
   "outputs": [
    {
     "name": "stdout",
     "output_type": "stream",
     "text": [
      "T-Statistic: -2.47\n",
      "p-value: 0.017\n"
     ]
    }
   ],
   "source": [
    "from scipy.stats import ttest_ind\n",
    "import numpy as np\n",
    "\n",
    "df1 = np.random.normal(20, 1, 23)\n",
    "df2 = np.random.normal(20.8, 1, 23)\n",
    "\n",
    "stat, p = ttest_ind(df1, df2)\n",
    "\n",
    "print(f\"T-Statistic: {stat:.2f}\\np-value: {p:.3f}\")"
   ]
  },
  {
   "cell_type": "markdown",
   "metadata": {},
   "source": [
    "Calculating effect size"
   ]
  },
  {
   "cell_type": "code",
   "execution_count": 3,
   "metadata": {},
   "outputs": [
    {
     "name": "stdout",
     "output_type": "stream",
     "text": [
      "Cohen's d: 0.7453992454457741\n"
     ]
    }
   ],
   "source": [
    "pooled_std = np.sqrt((df1.std()**2 + df2.std()**2)/2)\n",
    "cohens = (np.mean(df2) - np.mean(df1)) / pooled_std\n",
    "print(f\"Cohen's d: {cohens}\")"
   ]
  },
  {
   "cell_type": "markdown",
   "metadata": {},
   "source": [
    "Minimum detectable effect size"
   ]
  },
  {
   "cell_type": "code",
   "execution_count": 7,
   "metadata": {},
   "outputs": [
    {
     "name": "stdout",
     "output_type": "stream",
     "text": [
      "Minimum effect size detectable at a = 0.05, power = 0.8, 23 observations: 0.8447\n"
     ]
    }
   ],
   "source": [
    "from statsmodels.stats.power import TTestIndPower\n",
    "\n",
    "solver = TTestIndPower()\n",
    "\n",
    "power = 0.8\n",
    "alpha = 0.05\n",
    "\n",
    "min_effect_size = solver.solve_power(effect_size=None, power=power, alpha=alpha, nobs1=23, ratio=1)\n",
    "print(f\"Minimum effect size detectable at a = {alpha}, power = {power}, 23 observations: {min_effect_size:.4f}\")"
   ]
  },
  {
   "cell_type": "markdown",
   "metadata": {},
   "source": [
    "Minimum sample size"
   ]
  },
  {
   "cell_type": "code",
   "execution_count": 14,
   "metadata": {},
   "outputs": [
    {
     "name": "stdout",
     "output_type": "stream",
     "text": [
      "Minimum number of observations per sample: 30\n"
     ]
    }
   ],
   "source": [
    "min_samples = solver.solve_power(effect_size=cohens, nobs1=None, alpha=alpha, power=power, ratio=1)\n",
    "\n",
    "print(f\"Minimum number of observations per sample: {np.ceil(min_samples):.0f}\")"
   ]
  },
  {
   "cell_type": "markdown",
   "metadata": {},
   "source": [
    "Redoing experiment with new samples, n = 30"
   ]
  },
  {
   "cell_type": "code",
   "execution_count": 16,
   "metadata": {},
   "outputs": [
    {
     "name": "stdout",
     "output_type": "stream",
     "text": [
      "T-Statistic: -3.72\n",
      "p-value: 0.000\n",
      "Cohen's d: 0.9780544130326311\n",
      "Minimum effect size detectable at a = 0.05, power = 0.8, 30 observations: 0.7356\n"
     ]
    }
   ],
   "source": [
    "df1 = np.random.normal(20, 1, 30)\n",
    "df2 = np.random.normal(20.8, 1, 30)\n",
    "\n",
    "stat, p = ttest_ind(df1, df2)\n",
    "print(f\"T-Statistic: {stat:.2f}\\np-value: {p:.3f}\")\n",
    "\n",
    "pooled_std = np.sqrt((df1.std()**2 + df2.std()**2)/2)\n",
    "cohens = (np.mean(df2) - np.mean(df1)) / pooled_std\n",
    "print(f\"Cohen's d: {cohens}\")\n",
    "\n",
    "min_effect_size = solver.solve_power(effect_size=None, power=power, alpha=alpha, nobs1=len(df1), ratio=1)\n",
    "print(f\"Minimum effect size detectable at a = {alpha}, power = {power}, {len(df1)} observations: {min_effect_size:.4f}\")"
   ]
  },
  {
   "cell_type": "markdown",
   "metadata": {},
   "source": [
    "Paired"
   ]
  },
  {
   "cell_type": "code",
   "execution_count": 19,
   "metadata": {},
   "outputs": [
    {
     "name": "stdout",
     "output_type": "stream",
     "text": [
      "Minimum effect size detectable at a = 0.05, power = 0.9, 56 observations: 0.4409\n",
      "Cohen's d: 0.5175056587849609\n",
      "T-Statistic: -6.28\n",
      "p-value: 0.000\n"
     ]
    }
   ],
   "source": [
    "from scipy.stats import ttest_rel\n",
    "from statsmodels.stats.power import TTestPower\n",
    "\n",
    "solver = TTestPower()\n",
    "\n",
    "# Draw initial sample of size 18\n",
    "df1 = np.random.normal(20, 1, 18)\n",
    "df2 = df1 + np.random.normal(0.6, 0.7, 18)\n",
    "\n",
    "# decide type 1 and 2 error tolerances\n",
    "power = 0.9\n",
    "alpha = 0.05\n",
    "\n",
    "# calculate difference of two initial samples, calculate minimum samples\n",
    "pooled_std = np.sqrt((df1.std()**2 + df2.std()**2)/2)\n",
    "cohens = (np.mean(df2) - np.mean(df1)) / pooled_std\n",
    "min_samples = int(np.ceil(solver.solve_power(effect_size=cohens, nobs=None, alpha=alpha, power=power))) + 1\n",
    "\n",
    "# draw number of samples required for the ttest\n",
    "df1 = np.random.normal(20, 1, min_samples)\n",
    "df2 = df1 + np.random.normal(0.6, 0.7, min_samples)\n",
    "\n",
    "# calculate the new cohens\n",
    "pooled_std = np.sqrt((df1.std()**2 + df2.std()**2)/2)\n",
    "cohens = (np.mean(df2) - np.mean(df1)) / pooled_std\n",
    "\n",
    "# do the test\n",
    "stat, p = ttest_rel(df1, df2)\n",
    "min_effect_size = solver.solve_power(effect_size=None, power=power, alpha=alpha, nobs=len(df1))\n",
    "print(f\"Minimum effect size detectable at a = {alpha}, power = {power}, {len(df1)} observations: {min_effect_size:.4f}\")\n",
    "print(f\"Cohen's d: {cohens}\")\n",
    "print(f\"T-Statistic: {stat:.2f}\\np-value: {p:.3f}\")"
   ]
  },
  {
   "cell_type": "markdown",
   "metadata": {},
   "source": [
    "One-sample"
   ]
  },
  {
   "cell_type": "code",
   "execution_count": 12,
   "metadata": {},
   "outputs": [
    {
     "name": "stdout",
     "output_type": "stream",
     "text": [
      "T-Statistic: -2.02\n",
      "p-value: 0.083\n"
     ]
    }
   ],
   "source": [
    "from scipy.stats import ttest_1samp\n",
    "import warnings\n",
    "warnings.filterwarnings(\"ignore\")\n",
    "\n",
    "stat, p = ttest_1samp(np.random.normal(3.1, 1, 8), 3)\n",
    "\n",
    "print(f\"T-Statistic: {stat:.2f}\\np-value: {p:.3f}\")"
   ]
  },
  {
   "cell_type": "markdown",
   "metadata": {},
   "source": [
    "### Analysis of Variance Test (ANOVA)  \n",
    "\n",
    "Assumptions:\n",
    "- Normally distributed\n",
    "- Homogeneous variance\n",
    "\n",
    "Null hypothesis: The means of samples are equal  "
   ]
  },
  {
   "cell_type": "markdown",
   "metadata": {},
   "source": [
    "Unpaired"
   ]
  },
  {
   "cell_type": "code",
   "execution_count": 5,
   "metadata": {},
   "outputs": [
    {
     "name": "stdout",
     "output_type": "stream",
     "text": [
      "Statistic: 0.93\n",
      "p-value: 0.431\n"
     ]
    }
   ],
   "source": [
    "from scipy.stats import f_oneway\n",
    "\n",
    "df1 = np.random.normal(20, 1, 23)\n",
    "df2 = np.random.normal(20.2, 1, 23)\n",
    "df3 = np.random.normal(19.8, 1, 23)\n",
    "df4 = np.random.normal(20.3, 1, 23)\n",
    "\n",
    "stat, p = f_oneway(df1, df2, df3, df4)\n",
    "\n",
    "print(f\"Statistic: {stat:.2f}\\np-value: {p:.3f}\")"
   ]
  },
  {
   "cell_type": "markdown",
   "metadata": {},
   "source": [
    "Paired"
   ]
  },
  {
   "cell_type": "code",
   "execution_count": 6,
   "metadata": {},
   "outputs": [
    {
     "data": {
      "text/html": [
       "<div>\n",
       "<style scoped>\n",
       "    .dataframe tbody tr th:only-of-type {\n",
       "        vertical-align: middle;\n",
       "    }\n",
       "\n",
       "    .dataframe tbody tr th {\n",
       "        vertical-align: top;\n",
       "    }\n",
       "\n",
       "    .dataframe thead th {\n",
       "        text-align: right;\n",
       "    }\n",
       "</style>\n",
       "<table border=\"1\" class=\"dataframe\">\n",
       "  <thead>\n",
       "    <tr style=\"text-align: right;\">\n",
       "      <th></th>\n",
       "      <th>drug</th>\n",
       "      <th>patient</th>\n",
       "      <th>effect</th>\n",
       "    </tr>\n",
       "  </thead>\n",
       "  <tbody>\n",
       "    <tr>\n",
       "      <th>0</th>\n",
       "      <td>0</td>\n",
       "      <td>0</td>\n",
       "      <td>20.274116</td>\n",
       "    </tr>\n",
       "    <tr>\n",
       "      <th>1</th>\n",
       "      <td>0</td>\n",
       "      <td>1</td>\n",
       "      <td>19.198682</td>\n",
       "    </tr>\n",
       "    <tr>\n",
       "      <th>2</th>\n",
       "      <td>0</td>\n",
       "      <td>2</td>\n",
       "      <td>20.689133</td>\n",
       "    </tr>\n",
       "    <tr>\n",
       "      <th>3</th>\n",
       "      <td>0</td>\n",
       "      <td>3</td>\n",
       "      <td>20.957441</td>\n",
       "    </tr>\n",
       "    <tr>\n",
       "      <th>4</th>\n",
       "      <td>0</td>\n",
       "      <td>4</td>\n",
       "      <td>21.999473</td>\n",
       "    </tr>\n",
       "    <tr>\n",
       "      <th>...</th>\n",
       "      <td>...</td>\n",
       "      <td>...</td>\n",
       "      <td>...</td>\n",
       "    </tr>\n",
       "    <tr>\n",
       "      <th>64</th>\n",
       "      <td>2</td>\n",
       "      <td>18</td>\n",
       "      <td>21.145065</td>\n",
       "    </tr>\n",
       "    <tr>\n",
       "      <th>65</th>\n",
       "      <td>2</td>\n",
       "      <td>19</td>\n",
       "      <td>19.682705</td>\n",
       "    </tr>\n",
       "    <tr>\n",
       "      <th>66</th>\n",
       "      <td>2</td>\n",
       "      <td>20</td>\n",
       "      <td>20.920504</td>\n",
       "    </tr>\n",
       "    <tr>\n",
       "      <th>67</th>\n",
       "      <td>2</td>\n",
       "      <td>21</td>\n",
       "      <td>21.420899</td>\n",
       "    </tr>\n",
       "    <tr>\n",
       "      <th>68</th>\n",
       "      <td>2</td>\n",
       "      <td>22</td>\n",
       "      <td>20.923536</td>\n",
       "    </tr>\n",
       "  </tbody>\n",
       "</table>\n",
       "<p>69 rows × 3 columns</p>\n",
       "</div>"
      ],
      "text/plain": [
       "    drug  patient     effect\n",
       "0      0        0  20.274116\n",
       "1      0        1  19.198682\n",
       "2      0        2  20.689133\n",
       "3      0        3  20.957441\n",
       "4      0        4  21.999473\n",
       "..   ...      ...        ...\n",
       "64     2       18  21.145065\n",
       "65     2       19  19.682705\n",
       "66     2       20  20.920504\n",
       "67     2       21  21.420899\n",
       "68     2       22  20.923536\n",
       "\n",
       "[69 rows x 3 columns]"
      ]
     },
     "execution_count": 6,
     "metadata": {},
     "output_type": "execute_result"
    }
   ],
   "source": [
    "from statsmodels.stats.anova import AnovaRM\n",
    "import pandas as pd\n",
    "\n",
    "df1 = np.random.normal(20, 1, 23)\n",
    "df2 = df1 + np.random.normal(0.6, 0.7, 23)\n",
    "df3 = df1 + np.random.normal(0.1, 0.3, 23)\n",
    "\n",
    "together = np.concatenate([df1, df2, df3])\n",
    "d_from = [[i]*23 for i in range(3)]\n",
    "d_from = d_from[0] + d_from[1] + d_from[2]\n",
    "patient = list(range(23)) * 3\n",
    "\n",
    "(df := pd.DataFrame({\"drug\":d_from, \"patient\":patient, \"effect\":together}))"
   ]
  },
  {
   "cell_type": "code",
   "execution_count": 7,
   "metadata": {},
   "outputs": [
    {
     "name": "stdout",
     "output_type": "stream",
     "text": [
      "              Anova\n",
      "==================================\n",
      "     F Value Num DF  Den DF Pr > F\n",
      "----------------------------------\n",
      "drug  7.0080 2.0000 44.0000 0.0023\n",
      "==================================\n",
      "\n"
     ]
    }
   ],
   "source": [
    "print(AnovaRM(df, \"effect\", \"patient\", within=[\"drug\"]).fit())"
   ]
  }
 ],
 "metadata": {
  "interpreter": {
   "hash": "b89b5cfaba6639976dc87ff2fec6d58faec662063367e2c229c520fe71072417"
  },
  "kernelspec": {
   "display_name": "Python 3.10.1 64-bit",
   "language": "python",
   "name": "python3"
  },
  "language_info": {
   "codemirror_mode": {
    "name": "ipython",
    "version": 3
   },
   "file_extension": ".py",
   "mimetype": "text/x-python",
   "name": "python",
   "nbconvert_exporter": "python",
   "pygments_lexer": "ipython3",
   "version": "3.10.1"
  },
  "orig_nbformat": 4
 },
 "nbformat": 4,
 "nbformat_minor": 2
}
