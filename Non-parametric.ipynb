{
 "cells": [
  {
   "cell_type": "markdown",
   "metadata": {},
   "source": [
    "### Mann-Whitney U Test  \n",
    "\n",
    "Assumptions:\n",
    "- Independent\n",
    "- Observations can be ranked\n",
    "\n",
    "Null hypothesis: Rank sums are equal\n",
    "  \n",
    "[Explanation](https://www.youtube.com/watch?v=Twk6lBhBl88)"
   ]
  },
  {
   "cell_type": "code",
   "execution_count": 1,
   "metadata": {},
   "outputs": [
    {
     "name": "stdout",
     "output_type": "stream",
     "text": [
      "Statistic: 14.0\n",
      "p-value: 0.36596736596736595\n"
     ]
    }
   ],
   "source": [
    "import numpy as np\n",
    "from scipy.stats import mannwhitneyu\n",
    "\n",
    "sample_1 = np.random.uniform(0, 1, 6)\n",
    "sample_2 = np.random.uniform(0, 1, 7)\n",
    "\n",
    "stat, p = mannwhitneyu(sample_1, sample_2)\n",
    "\n",
    "print(f\"Statistic: {stat}\\np-value: {p}\")"
   ]
  },
  {
   "cell_type": "markdown",
   "metadata": {},
   "source": [
    "### Wilcoxon Signed-Rank Test  \n",
    "\n",
    "Assumptions:\n",
    "- Can be ranked\n",
    "- Are paired\n",
    "\n",
    "Null hypothesis: All have the same central tendency (rank sums are equal)\n",
    "\n",
    "[Explanation](https://www.youtube.com/watch?v=NZsL2eDQiDQ)"
   ]
  },
  {
   "cell_type": "code",
   "execution_count": 6,
   "metadata": {},
   "outputs": [
    {
     "name": "stdout",
     "output_type": "stream",
     "text": [
      "Statistic: 0.000\n",
      "p-value: 0.016\n"
     ]
    }
   ],
   "source": [
    "from scipy.stats import wilcoxon\n",
    "\n",
    "sample_1 = np.random.uniform(10, 14, 7)\n",
    "sample_2 = sample_1 + np.random.uniform(0, 3, 7)\n",
    "\n",
    "stat, p = wilcoxon(sample_1, sample_2)\n",
    "\n",
    "print(f\"Statistic: {stat:.3f}\\np-value: {p:.3f}\")"
   ]
  },
  {
   "cell_type": "markdown",
   "metadata": {},
   "source": [
    "### Kruskal-Wallis H Test  \n",
    "\n",
    "Assumptions:\n",
    "- Independent\n",
    "- Can be ranked\n",
    "\n",
    "Null hypothesis: All have the same central tendency (rank sums are equal)\n",
    "\n",
    "[Explanation](https://www.youtube.com/watch?v=l86wEhUzkY4)"
   ]
  },
  {
   "cell_type": "code",
   "execution_count": 7,
   "metadata": {},
   "outputs": [
    {
     "name": "stdout",
     "output_type": "stream",
     "text": [
      "Statistic: 0.494\n",
      "p-value: 0.482\n"
     ]
    }
   ],
   "source": [
    "from scipy.stats import kruskal\n",
    "\n",
    "sample_1 = np.random.uniform(10, 14, 7)\n",
    "sample_2 = np.random.uniform(11, 14, 7)\n",
    "\n",
    "stat, p = kruskal(sample_1, sample_2)\n",
    "\n",
    "print(f\"Statistic: {stat:.3f}\\np-value: {p:.3f}\")"
   ]
  },
  {
   "cell_type": "markdown",
   "metadata": {},
   "source": [
    "### Friedman Test\n",
    "\n",
    "Assumptions:\n",
    "- Paired\n",
    "- Can be ranked\n",
    "\n",
    "Null hypothesis: All have the same central tendency (rank sums are equal)"
   ]
  },
  {
   "cell_type": "code",
   "execution_count": 8,
   "metadata": {},
   "outputs": [
    {
     "name": "stdout",
     "output_type": "stream",
     "text": [
      "Statistic: 7.143\n",
      "p-value: 0.028\n"
     ]
    }
   ],
   "source": [
    "from scipy.stats import friedmanchisquare\n",
    "\n",
    "sample_1 = np.random.uniform(10, 14, 7)\n",
    "sample_2 = sample_1 + np.random.uniform(0, 3, 7)\n",
    "sample_3 = sample_1 + np.random.uniform(-1, 2, 7)\n",
    "\n",
    "stat, p = friedmanchisquare(sample_1, sample_2, sample_3)\n",
    "\n",
    "print(f\"Statistic: {stat:.3f}\\np-value: {p:.3f}\")"
   ]
  }
 ],
 "metadata": {
  "interpreter": {
   "hash": "b89b5cfaba6639976dc87ff2fec6d58faec662063367e2c229c520fe71072417"
  },
  "kernelspec": {
   "display_name": "Python 3.10.1 64-bit",
   "language": "python",
   "name": "python3"
  },
  "language_info": {
   "codemirror_mode": {
    "name": "ipython",
    "version": 3
   },
   "file_extension": ".py",
   "mimetype": "text/x-python",
   "name": "python",
   "nbconvert_exporter": "python",
   "pygments_lexer": "ipython3",
   "version": "3.10.1"
  },
  "orig_nbformat": 4
 },
 "nbformat": 4,
 "nbformat_minor": 2
}
