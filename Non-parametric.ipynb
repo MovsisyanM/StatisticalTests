{
 "cells": [
  {
   "cell_type": "markdown",
   "metadata": {},
   "source": [
    "### Mann-Whitney U Test  \n",
    "\n",
    "Assumptions:\n",
    "- Independent\n",
    "- Observations can be ranked\n",
    "\n",
    "Null hypothesis: Rank sums are equal\n",
    "  \n",
    "[Explanation](https://www.youtube.com/watch?v=Twk6lBhBl88)"
   ]
  },
  {
   "cell_type": "code",
   "execution_count": 1,
   "metadata": {},
   "outputs": [
    {
     "name": "stdout",
     "output_type": "stream",
     "text": [
      "Statistic: 14.0\n",
      "p-value: 0.36596736596736595\n"
     ]
    }
   ],
   "source": [
    "import numpy as np\n",
    "from scipy.stats import mannwhitneyu\n",
    "\n",
    "sample_1 = np.random.uniform(0, 1, 6)\n",
    "sample_2 = np.random.uniform(0, 1, 7)\n",
    "\n",
    "stat, p = mannwhitneyu(sample_1, sample_2)\n",
    "\n",
    "print(f\"Statistic: {stat}\\np-value: {p}\")"
   ]
  },
  {
   "cell_type": "markdown",
   "metadata": {},
   "source": [
    "### Wilcoxon Signed-Rank Test  \n",
    "\n",
    "Assumptions:\n",
    "- Can be ranked\n",
    "- Are paired\n",
    "\n",
    "Null hypothesis: Rank sums are equal\n",
    "\n",
    "[Explanation](https://www.youtube.com/watch?v=NZsL2eDQiDQ)"
   ]
  },
  {
   "cell_type": "code",
   "execution_count": 3,
   "metadata": {},
   "outputs": [
    {
     "name": "stdout",
     "output_type": "stream",
     "text": [
      "Statistic: 0.0\n",
      "p-value: 0.015625\n"
     ]
    }
   ],
   "source": [
    "from scipy.stats import wilcoxon\n",
    "\n",
    "sample_1 = np.random.uniform(10, 14, 7)\n",
    "sample_2 = sample_1 + np.random.uniform(0, 3, 7)\n",
    "\n",
    "stat, p = wilcoxon(sample_1, sample_2)\n",
    "\n",
    "print(f\"Statistic: {stat}\\np-value: {p}\")"
   ]
  }
 ],
 "metadata": {
  "interpreter": {
   "hash": "b89b5cfaba6639976dc87ff2fec6d58faec662063367e2c229c520fe71072417"
  },
  "kernelspec": {
   "display_name": "Python 3.10.1 64-bit",
   "language": "python",
   "name": "python3"
  },
  "language_info": {
   "codemirror_mode": {
    "name": "ipython",
    "version": 3
   },
   "file_extension": ".py",
   "mimetype": "text/x-python",
   "name": "python",
   "nbconvert_exporter": "python",
   "pygments_lexer": "ipython3",
   "version": "3.10.1"
  },
  "orig_nbformat": 4
 },
 "nbformat": 4,
 "nbformat_minor": 2
}
