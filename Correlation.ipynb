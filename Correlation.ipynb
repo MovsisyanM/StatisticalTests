{
 "cells": [
  {
   "cell_type": "markdown",
   "metadata": {},
   "source": [
    "# Correlation"
   ]
  },
  {
   "cell_type": "markdown",
   "metadata": {},
   "source": [
    "### Pearson's Correlation coefficient  \n",
    "\n",
    "Assumptions:\n",
    "- Independent, identically distributed  \n",
    "- Normally distributed  \n",
    "- Similar Variance between independent variables  \n",
    "  \n",
    "Null hypothesis: Samples are not correlated"
   ]
  },
  {
   "cell_type": "code",
   "execution_count": 1,
   "metadata": {},
   "outputs": [
    {
     "name": "stdout",
     "output_type": "stream",
     "text": [
      "Pearson correlation coefficient: 0.872\n",
      "p-value: 0.000\n"
     ]
    }
   ],
   "source": [
    "from scipy.stats import pearsonr\n",
    "from sklearn import datasets\n",
    "import numpy as np\n",
    "import pandas as pd\n",
    "np.random.seed(173)\n",
    "\n",
    "iris = datasets.load_iris()\n",
    "X = pd.DataFrame(iris.data)\n",
    "y = iris.target\n",
    "\n",
    "pcc, p = pearsonr(X[0], X[2])\n",
    "\n",
    "print(f\"Pearson correlation coefficient: {pcc:.3f}\\np-value: {p:.3f}\")"
   ]
  },
  {
   "cell_type": "markdown",
   "metadata": {},
   "source": [
    "### Spearman’s Rank Correlation  \n",
    "\n",
    "Assumption: independent, identically distributed  \n",
    "Null hypthesis: the samples are not correlated."
   ]
  },
  {
   "cell_type": "code",
   "execution_count": 7,
   "metadata": {},
   "outputs": [
    {
     "name": "stdout",
     "output_type": "stream",
     "text": [
      "Correlation: 0.928\n",
      "p-value: 0.0077\n"
     ]
    }
   ],
   "source": [
    "from scipy.stats import spearmanr\n",
    "\n",
    "ranking_1 = np.array([1.1, 2.3, 0.3, -2.6, 5, 5])\n",
    "ranking_2 = np.array([0.1, 2.6, 0.4, -1.9, 4.5, 5.1])\n",
    "\n",
    "corr, p = spearmanr(ranking_1, ranking_2)\n",
    "\n",
    "print(f\"Correlation: {corr:.3f}\\np-value: {p:.4f}\")"
   ]
  },
  {
   "cell_type": "markdown",
   "metadata": {},
   "source": [
    "### Kendall's Rank Correlation  \n",
    "\n",
    "Assumption: independent, identically distributed"
   ]
  },
  {
   "cell_type": "code",
   "execution_count": 8,
   "metadata": {},
   "outputs": [
    {
     "name": "stdout",
     "output_type": "stream",
     "text": [
      "Correlation: 0.828\n",
      "p-value: 0.0217\n"
     ]
    }
   ],
   "source": [
    "from scipy.stats import kendalltau\n",
    "\n",
    "corr, p = kendalltau(ranking_1, ranking_2)\n",
    "\n",
    "print(f\"Correlation: {corr:.3f}\\np-value: {p:.4f}\")"
   ]
  },
  {
   "cell_type": "markdown",
   "metadata": {},
   "source": [
    "### Chi^2  \n",
    "  \n",
    "Assumption: Independent, n > 25  \n",
    "Null Hypothesis: the samples are not correlated"
   ]
  },
  {
   "cell_type": "code",
   "execution_count": 13,
   "metadata": {},
   "outputs": [
    {
     "name": "stdout",
     "output_type": "stream",
     "text": [
      "Statistic: 5.858,\n",
      "p-value: 0.320\n"
     ]
    }
   ],
   "source": [
    "from scipy.stats import chisquare\n",
    "\n",
    "mean_1 = np.mean(ranking_1)\n",
    "mean_2 = np.mean(ranking_2)\n",
    "\n",
    "\n",
    "stat, p = chisquare(ranking_1, ranking_2 - mean_2 + mean_1)\n",
    "\n",
    "print(f\"Statistic: {stat:.3f},\\np-value: {p:.3f}\")"
   ]
  }
 ],
 "metadata": {
  "interpreter": {
   "hash": "b89b5cfaba6639976dc87ff2fec6d58faec662063367e2c229c520fe71072417"
  },
  "kernelspec": {
   "display_name": "Python 3.10.1 64-bit",
   "language": "python",
   "name": "python3"
  },
  "language_info": {
   "codemirror_mode": {
    "name": "ipython",
    "version": 3
   },
   "file_extension": ".py",
   "mimetype": "text/x-python",
   "name": "python",
   "nbconvert_exporter": "python",
   "pygments_lexer": "ipython3",
   "version": "3.10.1"
  },
  "orig_nbformat": 4
 },
 "nbformat": 4,
 "nbformat_minor": 2
}
